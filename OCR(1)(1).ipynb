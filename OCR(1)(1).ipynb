{
  "nbformat": 4,
  "nbformat_minor": 0,
  "metadata": {
    "colab": {
      "name": "OCR(1).ipynb",
      "provenance": [],
      "collapsed_sections": []
    },
    "kernelspec": {
      "display_name": "Python 3",
      "language": "python",
      "name": "python3"
    },
    "language_info": {
      "codemirror_mode": {
        "name": "ipython",
        "version": 3
      },
      "file_extension": ".py",
      "mimetype": "text/x-python",
      "name": "python",
      "nbconvert_exporter": "python",
      "pygments_lexer": "ipython3",
      "version": "3.7.4"
    }
  },
  "cells": [
    {
      "cell_type": "code",
      "metadata": {
        "colab_type": "code",
        "id": "SPvIHmXjeMER",
        "outputId": "48ec531b-87a6-48b5-816f-f750a1cc80d5",
        "colab": {
          "base_uri": "https://localhost:8080/",
          "height": 391
        }
      },
      "source": [
        "import cv2\n",
        "import numpy as np\n",
        "import requests\n",
        "import io\n",
        "import json\n",
        "img=cv2.imread(\"one.jpg\")\n",
        "img.shape\n",
        "#Resize the image\n",
        "imS = cv2.resize(img, (950, 940))\n",
        "h,w,_=imS.shape\n",
        "roi=imS[400:h,305:w]\n",
        "\n",
        "#OCR_Space\n",
        "file_bytes=io.BytesIO(compressedimage)\n",
        "urlapi=\"https://api.ocr.space/parse/image\"\n",
        "_,compressedimage=cv2.imencode(\".jpg\",roi,[1,90])\n",
        "result=requests.post(urlapi,\n",
        "              files={\"one.jpg\":file_bytes},\n",
        "             data={\"apikey\":\"d10ad73d3088957\"})\n",
        "result=result.content.decode()\n",
        "result=json.loads(result)\n",
        "textdetected=result.get(\"ParsedResults\")[0].get(\"ParsedText\")\n",
        "print(textdetected)\n",
        "cv2.imshow('Img',roi)\n",
        "cv2.waitKey(0)"
      ],
      "execution_count": 0,
      "outputs": [
        {
          "output_type": "stream",
          "text": [
            "plant organs.\r\n",
            "strength and ty\r\n",
            "i Lh only upw.rd trans-\r\n",
            "rnLncraI salts _\r\n",
            "include\r\n",
            ",arenchyrna and xylem\r\n",
            "all the other\r\n",
            "are formed of dead\r\n",
            "componen except\r\n",
            "ed with the thickening\r\n",
            "functions to provide\r\n",
            "-igidity to the organs.\r\n",
            "They arc round in the parts such as\r\n",
            "seed coat. fruit pulp. etc-\r\n",
            "•provide Strength to the limited\r\n",
            "region Of the organ\r\n",
            "Phloem\r\n",
            "I . This Lissue is ecNicerned upward as wcll\r\n",
            "The c onuE\r\n",
            "a cells. (2) Sit\r\n",
            "paren CY\r\n",
            "a:byma) -\r\n",
            "in What is\r\n",
            "The cen\r\n",
            "induces\r\n",
            "as downward Of stored food seem, Causi]\r\n",
            "materials.\r\n",
            "2.\r\n",
            "Thc components of this tissue. include sieve\r\n",
            "cells. Lubes and companion cells. phloem\r\n",
            "parcnchynla and phloenl\r\n",
            "Except thc phloein fibres ail the other\r\n",
            "components of the tissue are formed of living\r\n",
            "cells _\r\n",
            "Except thc cell walls of phlocm fibres; those of\r\n",
            "no other cornponents show the thickening of\r\n",
            "ligni _\r\n",
            "What is\r\n",
            "The.\r\n",
            "haves, to\r\n",
            "ngward\r\n",
            "eol\r\n",
            "hptca\\\r\n",
            "[2\r\n",
            "\n"
          ],
          "name": "stdout"
        },
        {
          "output_type": "execute_result",
          "data": {
            "text/plain": [
              "-1"
            ]
          },
          "metadata": {
            "tags": []
          },
          "execution_count": 65
        }
      ]
    },
    {
      "cell_type": "code",
      "metadata": {
        "id": "ZDQyj4joDl6c",
        "colab_type": "code",
        "colab": {}
      },
      "source": [
        ""
      ],
      "execution_count": 0,
      "outputs": []
    },
    {
      "cell_type": "code",
      "metadata": {
        "id": "h-9XBMJFDl6m",
        "colab_type": "code",
        "colab": {}
      },
      "source": [
        ""
      ],
      "execution_count": 0,
      "outputs": []
    }
  ]
}